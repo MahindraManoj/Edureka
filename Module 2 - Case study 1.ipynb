{
 "cells": [
  {
   "cell_type": "markdown",
   "metadata": {},
   "source": [
    "1.What is the output of the following code?\n",
    "\n",
    "nums = set([1,1,2,3,3,3,4,4])\n",
    "\n",
    "print(len(nums))"
   ]
  },
  {
   "cell_type": "code",
   "execution_count": 1,
   "metadata": {},
   "outputs": [
    {
     "name": "stdout",
     "output_type": "stream",
     "text": [
      "{1, 2, 3, 4}\n",
      "4\n"
     ]
    }
   ],
   "source": [
    "nums = set([1,1,2,3,3,3,4,4])\n",
    "#set() method converts the list into a set which has unique elements\n",
    "print(nums)\n",
    "print(len(nums))\n",
    "#len() method counts the total elements that are present in the set"
   ]
  },
  {
   "cell_type": "markdown",
   "metadata": {},
   "source": [
    "2.What will be the output?\n",
    "\n",
    "d = {\"john\":40, \"peter\":45}\n",
    "\n",
    "print(list(d.keys()))"
   ]
  },
  {
   "cell_type": "code",
   "execution_count": 2,
   "metadata": {},
   "outputs": [
    {
     "name": "stdout",
     "output_type": "stream",
     "text": [
      "['john', 'peter']\n"
     ]
    }
   ],
   "source": [
    "d = {\"john\": 40, \"peter\": 45}\n",
    "print(list(d.keys()))\n",
    "#list() method displays the keys in a list format"
   ]
  },
  {
   "cell_type": "markdown",
   "metadata": {},
   "source": [
    "3.A website requires a user to input username and password to register. Write a program\n",
    "to check the validity of password given by user. Following are the criteria for checking\n",
    "password:\n",
    "1. At least 1 letter between [a-z]\n",
    "2. At least 1 number between [0-9]\n",
    "1. At least 1 letter between [A-Z]\n",
    "3. At least 1 character from [$#@]\n",
    "4. Minimum length of transaction password: 6\n",
    "5. Maximum length of transaction password: 12"
   ]
  },
  {
   "cell_type": "code",
   "execution_count": 1,
   "metadata": {
    "scrolled": true
   },
   "outputs": [
    {
     "name": "stdout",
     "output_type": "stream",
     "text": [
      "Please enter a username to being the resgistration: MahindraManoj\n",
      "Please enter a password to continue: P@ssword\n",
      "Please enter a valid password. Your password didn't match the rules.\n"
     ]
    }
   ],
   "source": [
    "import re\n",
    "User_Name = input(\"Please enter a username to being the resgistration: \")\n",
    "Password = input(\"Please enter a password to continue: \")\n",
    "A = True\n",
    "while A:\n",
    "    if (len(Password) < 6 or len(Password) > 12):\n",
    "        break\n",
    "    elif not re.search(\"[a-z]\",Password):\n",
    "        break\n",
    "    elif not re.search(\"[0-9]\",Password):\n",
    "        break\n",
    "    elif not re.search(\"[A-Z]\",Password):\n",
    "        break\n",
    "    elif not re.search(\"[$#@]\",Password):\n",
    "        break\n",
    "    else:\n",
    "        print(\"It's a valid password. Thank you for signing to us.\")\n",
    "        A = False\n",
    "        break\n",
    "if A:\n",
    "    print(\"Please enter a valid password. Your password didn't match the rules.\")\n",
    "    "
   ]
  },
  {
   "cell_type": "markdown",
   "metadata": {},
   "source": [
    "4.Write a for loop that prints all elements of a list and their position in the list.\n",
    "\n",
    " a = [4,7,3,2,5,9]"
   ]
  },
  {
   "cell_type": "code",
   "execution_count": 4,
   "metadata": {},
   "outputs": [
    {
     "name": "stdout",
     "output_type": "stream",
     "text": [
      "The value is 4 and the position is 0\n",
      "The value is 7 and the position is 1\n",
      "The value is 3 and the position is 2\n",
      "The value is 2 and the position is 3\n",
      "The value is 5 and the position is 4\n",
      "The value is 9 and the position is 5\n"
     ]
    }
   ],
   "source": [
    "a = [4,7,3,2,5,9]\n",
    "\n",
    "for i in a:\n",
    "    print(f'The value is {i} and the position is {a.index(i)}')\n",
    "    "
   ]
  },
  {
   "cell_type": "markdown",
   "metadata": {},
   "source": [
    "5.Please write a program which accepts a string from console and print the\n",
    "characters that have even indexes.\n",
    "\n",
    "Example: If the following string is given as input to the program:\n",
    " H1e2l3l4o5w6o7r8l9d\n",
    " \n",
    " Then, the output of the program should be:\n",
    " Helloworld"
   ]
  },
  {
   "cell_type": "code",
   "execution_count": 5,
   "metadata": {},
   "outputs": [
    {
     "name": "stdout",
     "output_type": "stream",
     "text": [
      "Please enter your input string: H1e3l5l70\n",
      "The output of the input string with even indices: Hell0\n"
     ]
    }
   ],
   "source": [
    "input_string = input(\"Please enter your input string: \")\n",
    "output_string = \"\"\n",
    "for i in range(len(input_string)):\n",
    "    if i%2 == 0: \n",
    "        output_string = output_string + input_string[i]\n",
    "print(f'The output of the input string with even indices: {output_string}')"
   ]
  },
  {
   "cell_type": "markdown",
   "metadata": {},
   "source": [
    "6.Please write a program which accepts a string from console and print it in reverse order."
   ]
  },
  {
   "cell_type": "code",
   "execution_count": 6,
   "metadata": {},
   "outputs": [
    {
     "name": "stdout",
     "output_type": "stream",
     "text": [
      "Enter your choice of string: Hello World\n",
      "The reverse order is: dlroW olleH\n"
     ]
    }
   ],
   "source": [
    "user_input = input(\"Enter your choice of string: \")\n",
    "output = user_input[::-1]\n",
    "print(f'The reverse order is: {output}')"
   ]
  },
  {
   "cell_type": "markdown",
   "metadata": {},
   "source": [
    "7.Please write a program which count and print the numbers of each character in a\n",
    "string input by console."
   ]
  },
  {
   "cell_type": "code",
   "execution_count": 7,
   "metadata": {},
   "outputs": [
    {
     "name": "stdout",
     "output_type": "stream",
     "text": [
      "Enter the input: irreversible\n",
      "i 2\n",
      "r 3\n",
      "e 3\n",
      "v 1\n",
      "s 1\n",
      "b 1\n",
      "l 1\n"
     ]
    }
   ],
   "source": [
    "userinput = input(\"Enter the input: \")\n",
    "output = {} #want to show the output of the code in a dict format\n",
    "for char in userinput:\n",
    "    if char not in output:\n",
    "        output[char] = 1\n",
    "    else:\n",
    "        output[char]+= 1\n",
    "for key in output:\n",
    "    print(key, output[key])\n"
   ]
  },
  {
   "cell_type": "markdown",
   "metadata": {},
   "source": [
    "8.With two given lists [1,3,6,78,35,55] and [12,24,35,24,88,120,155], write a\n",
    "program to make a list whose elements are intersection of the above given lists."
   ]
  },
  {
   "cell_type": "code",
   "execution_count": 8,
   "metadata": {},
   "outputs": [
    {
     "name": "stdout",
     "output_type": "stream",
     "text": [
      "The intersectioned list is: [35]\n"
     ]
    }
   ],
   "source": [
    "list1 = [1,3,6,78,35,55]\n",
    "list2 = [12,24,35,24,88,120,155]\n",
    "result = [x for x in list1 for y in list2 if x == y]\n",
    "print(f'The intersectioned list is: {result}')"
   ]
  },
  {
   "cell_type": "markdown",
   "metadata": {},
   "source": [
    "9.With a given list [12,24,35,24,88,120,155,88,120,155], write a program to print this\n",
    "list after removing all duplicate values with original order reserved."
   ]
  },
  {
   "cell_type": "code",
   "execution_count": 9,
   "metadata": {},
   "outputs": [
    {
     "name": "stdout",
     "output_type": "stream",
     "text": [
      "[155, 120, 88, 35, 24, 12]\n"
     ]
    }
   ],
   "source": [
    "givenlist = [12,24,35,24,88,120,155,88,120,155]\n",
    "set_givenlist = set(givenlist)\n",
    "# set() method removes dupilicates and contains only unique elements\n",
    "output = list(sorted(set_givenlist, reverse = True))\n",
    "#sorted() method sorts the elements in the given list/tuple/set in ascending/descending order\n",
    "print(output)\n"
   ]
  },
  {
   "cell_type": "markdown",
   "metadata": {},
   "source": [
    "10.By using list comprehension, please write a program to print the list after removing\n",
    "the value 24 in [12,24,35,24,88,120,155]."
   ]
  },
  {
   "cell_type": "code",
   "execution_count": 10,
   "metadata": {},
   "outputs": [
    {
     "name": "stdout",
     "output_type": "stream",
     "text": [
      "[12, 35, 88, 120, 155]\n"
     ]
    }
   ],
   "source": [
    "mylist = [12,24,35,24,88,120,155]\n",
    "output = [num for num in mylist if num!= 24]\n",
    "print(output)"
   ]
  },
  {
   "cell_type": "markdown",
   "metadata": {},
   "source": [
    "11. By using list comprehension, please write a program to print the list after removing\n",
    "the 0th,4th,5th numbers in [12,24,35,70,88,120,155]"
   ]
  },
  {
   "cell_type": "code",
   "execution_count": 11,
   "metadata": {},
   "outputs": [
    {
     "name": "stdout",
     "output_type": "stream",
     "text": [
      "[24, 35, 70, 155]\n"
     ]
    }
   ],
   "source": [
    "mylist = [12,24,35,70,88,120,155]\n",
    "output = [num for (index,num) in enumerate(mylist) if index not in (0,4,5)]\n",
    "#enumerate() method iterates through the object. In this case mylist.\n",
    "print(output)"
   ]
  },
  {
   "cell_type": "markdown",
   "metadata": {},
   "source": [
    "12. By using list comprehension, please write a program to print the list after removing\n",
    "delete numbers which are divisible by 5 and 7 in [12,24,35,70,88,120,155]."
   ]
  },
  {
   "cell_type": "code",
   "execution_count": 12,
   "metadata": {},
   "outputs": [
    {
     "name": "stdout",
     "output_type": "stream",
     "text": [
      "[12, 24, 88]\n"
     ]
    }
   ],
   "source": [
    "mylist = [12,24,35,70,88,120,155]\n",
    "result = [num for num in mylist if num%5 != 0 and num%7 != 0]\n",
    "print(result)"
   ]
  },
  {
   "cell_type": "markdown",
   "metadata": {},
   "source": [
    "13. Please write a program to randomly generate a list with 5 numbers, which are\n",
    "divisible by 5 and 7 , between 1 and 1000 inclusive."
   ]
  },
  {
   "cell_type": "code",
   "execution_count": 13,
   "metadata": {},
   "outputs": [
    {
     "name": "stdout",
     "output_type": "stream",
     "text": [
      "[35, 945, 315, 630, 175]\n"
     ]
    }
   ],
   "source": [
    "import random\n",
    "#random function lets you operate random operations\n",
    "newlist = [num for num in range(1,1000) if num%5 == 0 and num%7 == 0]\n",
    "#newlist contains a list of numbers that are divisible by both 5 and 7\n",
    "print(random.sample(newlist,5))"
   ]
  },
  {
   "cell_type": "markdown",
   "metadata": {},
   "source": [
    "14. Write a program to compute 1/2+2/3+3/4+...+n/n+1 with a given n input by\n",
    "console (n>0)."
   ]
  },
  {
   "cell_type": "code",
   "execution_count": 15,
   "metadata": {},
   "outputs": [
    {
     "name": "stdout",
     "output_type": "stream",
     "text": [
      "Enter a number of your choice: 5\n",
      "The total sum is: 3.55\n"
     ]
    }
   ],
   "source": [
    "n = int(input(\"Enter a number of your choice: \"))\n",
    "total = 0\n",
    "if n > 0:\n",
    "    for num in range(1,n+1):\n",
    "        total+= (num/(num+1))\n",
    "else: \n",
    "    print(\"Enter a number greater than zero.\")\n",
    "print(f\"The total sum is: {round(total,2)}\")"
   ]
  },
  {
   "cell_type": "code",
   "execution_count": null,
   "metadata": {},
   "outputs": [],
   "source": []
  }
 ],
 "metadata": {
  "kernelspec": {
   "display_name": "Python 3",
   "language": "python",
   "name": "python3"
  },
  "language_info": {
   "codemirror_mode": {
    "name": "ipython",
    "version": 3
   },
   "file_extension": ".py",
   "mimetype": "text/x-python",
   "name": "python",
   "nbconvert_exporter": "python",
   "pygments_lexer": "ipython3",
   "version": "3.7.3"
  }
 },
 "nbformat": 4,
 "nbformat_minor": 2
}
